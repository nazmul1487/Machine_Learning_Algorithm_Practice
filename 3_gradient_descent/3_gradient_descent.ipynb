{
 "cells": [
  {
   "cell_type": "code",
   "execution_count": 64,
   "metadata": {},
   "outputs": [],
   "source": [
    "import pandas as pd\n",
    "import numpy as np\n",
    "import matplotlib.pyplot as plt\n",
    "from sklearn import linear_model\n",
    "import math"
   ]
  },
  {
   "cell_type": "code",
   "execution_count": 65,
   "metadata": {},
   "outputs": [],
   "source": [
    "def gradient_descent(x, y):\n",
    "    m_cur = c_cur = 0.0\n",
    "    rate = 0.0002\n",
    "    n = len(x)\n",
    "    for i in range(1000000):\n",
    "        y_p = m_cur*x + c_cur\n",
    "        dm = -(2/n)*sum(x*(y-y_p))\n",
    "        dc = -(2/n)*sum(y-y_p)\n",
    "        m_cur = m_cur - rate*dm\n",
    "        c_cur = c_cur - rate*dc\n",
    "    return m_cur, c_cur\n",
    "        "
   ]
  },
  {
   "cell_type": "code",
   "execution_count": 66,
   "metadata": {},
   "outputs": [
    {
     "name": "stdout",
     "output_type": "stream",
     "text": [
      "m_s = [1.01773624] c_s = 1.9152193111569176\n",
      "m = 1.0177362378598027 c = 1.9152193109535014\n"
     ]
    }
   ],
   "source": [
    "df = pd.read_csv('test_scores.csv')\n",
    "reg = linear_model.LinearRegression()\n",
    "x = np.array(df.math)\n",
    "y = np.array(df.cs)\n",
    "reg.fit(df[['math']], df.cs)\n",
    "m, c = gradient_descent(x, y)\n",
    "print(\"m_s = {} c_s = {}\".format(reg.coef_, reg.intercept_))\n",
    "print(\"m = {} c = {}\".format(m, c))"
   ]
  },
  {
   "cell_type": "code",
   "execution_count": null,
   "metadata": {},
   "outputs": [],
   "source": []
  },
  {
   "cell_type": "code",
   "execution_count": null,
   "metadata": {},
   "outputs": [],
   "source": []
  },
  {
   "cell_type": "code",
   "execution_count": null,
   "metadata": {},
   "outputs": [],
   "source": []
  }
 ],
 "metadata": {
  "kernelspec": {
   "display_name": "Python 3",
   "language": "python",
   "name": "python3"
  },
  "language_info": {
   "codemirror_mode": {
    "name": "ipython",
    "version": 3
   },
   "file_extension": ".py",
   "mimetype": "text/x-python",
   "name": "python",
   "nbconvert_exporter": "python",
   "pygments_lexer": "ipython3",
   "version": "3.7.4"
  }
 },
 "nbformat": 4,
 "nbformat_minor": 2
}
